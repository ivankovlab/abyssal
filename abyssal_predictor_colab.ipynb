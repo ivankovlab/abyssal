{
  "nbformat": 4,
  "nbformat_minor": 0,
  "metadata": {
    "colab": {
      "provenance": [],
      "toc_visible": true
    },
    "kernelspec": {
      "name": "python3",
      "display_name": "Python 3"
    },
    "language_info": {
      "name": "python"
    }
  },
  "cells": [
    {
      "cell_type": "markdown",
      "source": [
        "# Predicting DDG with ABYSSAL\n",
        "## Instructions\n",
        "\n",
        "This is a helper notebook for generating predictions with ABYSSAL, a protein stability change (∆∆G) predictor. See the [paper](https://www.biorxiv.org/content/10.1101/2022.12.31.522396v1) or [repository](https://github.com/ivankovlab/abyssal) for details.\n",
        "\n",
        "Run the cells below in order, following instuctions for every cell.\n"
      ],
      "metadata": {
        "id": "soYSmGKvI4dP"
      }
    },
    {
      "cell_type": "code",
      "execution_count": null,
      "metadata": {
        "id": "gQeKTZr97PX9",
        "cellView": "form"
      },
      "outputs": [],
      "source": [
        "#@title Install dependencies and download assets\n",
        "# @markdown Run this cell once to install ABYSSAL and dependencies.\n",
        "\n",
        "\n",
        "! pip install hydra-core pytorch-lightning fair-esm\n",
        "! git clone https://github.com/ivankovlab/abyssal.git\n",
        "! wget https://zenodo.org/record/8220118/files/ddg_model_trained_on_mega.pt -P /content/models"
      ]
    },
    {
      "cell_type": "code",
      "source": [
        "#@title Upload input .tsv file\n",
        "# @markdown Run this cell to upload an input .tsv file. The file must contain the wildtype and mutated sequences in `sequence` and `mutation` columns.\n",
        "\n",
        "from google.colab import files\n",
        "from os import rename\n",
        "\n",
        "\n",
        "print('Upload .tsv file with wildtype and mutated sequences')\n",
        "uploaded = files.upload()\n",
        "for fn in uploaded.keys():\n",
        "  rename(fn, f\"/content/input.tsv\")\n",
        "  print('Input file uploaded')"
      ],
      "metadata": {
        "id": "bqEg2Cj_HNNk",
        "cellView": "form"
      },
      "execution_count": null,
      "outputs": []
    },
    {
      "cell_type": "code",
      "source": [
        "#@title Predictions with ABYSSAL\n",
        "# @markdown Run this cell to generate embeddings and save predicted DDG.\n",
        "\n",
        "\n",
        "import sys\n",
        "sys.path.insert(0, '/content/abyssal')\n",
        "\n",
        "import logging\n",
        "logging.basicConfig(level=logging.INFO,\n",
        "                    stream=sys.stdout,\n",
        "                    format='%(asctime)s %(levelname)-8s %(message)s',\n",
        "                    datefmt='%Y-%m-%d %H:%M:%S',\n",
        "                    force=True\n",
        "                    )\n",
        "\n",
        "from abyssal import run_abyssal\n",
        "from omegaconf import OmegaConf\n",
        "\n",
        "cfg = OmegaConf.load('/content/abyssal/configs/default.yaml')\n",
        "cfg.input = 'input.tsv'\n",
        "cfg.output = 'predictions.tsv'\n",
        "run_abyssal(cfg)"
      ],
      "metadata": {
        "id": "xZ1x_dSy8Pze",
        "cellView": "form"
      },
      "execution_count": null,
      "outputs": []
    },
    {
      "cell_type": "code",
      "source": [
        "#@title Download result\n",
        "# @markdown Run this cell to download the predictions.\n",
        "\n",
        "files.download('predictions.tsv')"
      ],
      "metadata": {
        "cellView": "form",
        "id": "BPoxmn7je-YU"
      },
      "execution_count": null,
      "outputs": []
    }
  ]
}